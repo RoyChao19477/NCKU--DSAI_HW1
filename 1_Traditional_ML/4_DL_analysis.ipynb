{
 "cells": [
  {
   "cell_type": "code",
   "execution_count": 6,
   "metadata": {},
   "outputs": [
    {
     "name": "stdout",
     "output_type": "stream",
     "text": [
      "----------------------------------------------\n",
      "File Name: 3_LSTM_05_pred_epoch50_14days.csv\n",
      "    MSE: 39524.30086066316, MAE: 50.79081296857979\n",
      "----------------------------------------------\n",
      "File Name: 10_CNN_01_pred_epoch50_7days.csv\n",
      "    MSE: 33489.74079196561, MAE: 36.92747941609554\n",
      "----------------------------------------------\n",
      "File Name: 8_CRNN_05_pred_epoch50_7days.csv\n",
      "    MSE: 18402.155745226744, MAE: 35.26562668010807\n",
      "----------------------------------------------\n",
      "File Name: 2_LSTM_05_pred_epoch50_5days.csv\n",
      "    MSE: 62939.85397400508, MAE: 55.01100178598502\n",
      "----------------------------------------------\n",
      "File Name: 12_RNN_01_pred_epoch50_7days.csv\n",
      "    MSE: 50478.53706586153, MAE: 48.151553895022154\n",
      "----------------------------------------------\n",
      "File Name: 9_CRNN_LLL_05_pred_epoch50_7days.csv\n",
      "    MSE: 28762.88684589942, MAE: 34.716069599773064\n",
      "----------------------------------------------\n",
      "File Name: 13_FCN_01_pred_epoch50_7days.csv\n",
      "    MSE: 35090.98698401368, MAE: 37.40875176290531\n",
      "----------------------------------------------\n",
      "File Name: 5_LSTM_05_pred_epoch50_1days.csv\n",
      "    MSE: 42740.23109988441, MAE: 52.25592642466127\n",
      "----------------------------------------------\n",
      "File Name: 6_LSTM_05_pred_epoch50_5days.csv\n",
      "    MSE: 45742.74586055805, MAE: 49.30082074684434\n",
      "----------------------------------------------\n",
      "File Name: 8_BLSTM_05_pred_epoch50_7days.csv\n",
      "    MSE: 38175.66875868646, MAE: 53.39528601459845\n",
      "----------------------------------------------\n",
      "File Name: 14_Transformer_01_pred_epoch50_7days.csv\n",
      "    MSE: 45802.469966370176, MAE: 48.68236932964146\n",
      "----------------------------------------------\n",
      "File Name: 11_DNN_01_pred_epoch50_7days.csv\n",
      "    MSE: 38860.46111645801, MAE: 41.64004565803316\n",
      "----------------------------------------------\n",
      "File Name: 7_LSTM_05_pred_epoch50_7days.csv\n",
      "    MSE: 27428.120416893733, MAE: 44.472102837452546\n",
      "----------------------------------------------\n",
      "File Name: 4_LSTM_05_pred_epoch50_28days.csv\n",
      "    MSE: 46253.73053677998, MAE: 54.4774670422258\n"
     ]
    }
   ],
   "source": [
    "import glob\n",
    "import os\n",
    "import pandas as pd\n",
    "import numpy as np\n",
    "from sklearn.metrics import mean_squared_error, mean_absolute_error\n",
    "\n",
    "folder_path = \"/Users/blueshiner/git/3_Collections/19_DSAI/HW0/1_codes/src/results/*.csv\"\n",
    "\n",
    "# All files and directories ending with .txt and that don't begin with a dot:\n",
    "# print(glob.glob(folder_path)) \n",
    "\n",
    "for item in glob.glob(folder_path):\n",
    "    #df = pd.read_csv(item)\n",
    "    pred = np.loadtxt(item, delimiter=',')\n",
    "\n",
    "    print(\"----------------------------------------------\")\n",
    "    print(f\"File Name: {os.path.basename(item)}\")\n",
    "    mse = mean_squared_error( pred, [3032,2301,3167,2963,2549,3464,4700,3346,3087,3111]) / 10\n",
    "    mae = mean_absolute_error( pred, [3032,2301,3167,2963,2549,3464,4700,3346,3087,3111]) / 10\n",
    "    print(f\"    MSE: {mse}, MAE: {mae}\")\n"
   ]
  },
  {
   "cell_type": "code",
   "execution_count": null,
   "metadata": {},
   "outputs": [],
   "source": []
  }
 ],
 "metadata": {
  "interpreter": {
   "hash": "8a321bb0fc4d66f9af6532794760ab083afb692787107ffc87e331bdf958f3c9"
  },
  "kernelspec": {
   "display_name": "Python 3.9.5 ('py39')",
   "language": "python",
   "name": "python3"
  },
  "language_info": {
   "codemirror_mode": {
    "name": "ipython",
    "version": 3
   },
   "file_extension": ".py",
   "mimetype": "text/x-python",
   "name": "python",
   "nbconvert_exporter": "python",
   "pygments_lexer": "ipython3",
   "version": "3.9.5"
  },
  "orig_nbformat": 4
 },
 "nbformat": 4,
 "nbformat_minor": 2
}
