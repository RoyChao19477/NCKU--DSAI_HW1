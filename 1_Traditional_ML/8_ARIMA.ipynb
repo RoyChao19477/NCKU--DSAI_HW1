{
  "nbformat": 4,
  "nbformat_minor": 0,
  "metadata": {
    "kernelspec": {
      "display_name": "Python 3",
      "language": "python",
      "name": "python3"
    },
    "language_info": {
      "codemirror_mode": {
        "name": "ipython",
        "version": 3
      },
      "file_extension": ".py",
      "mimetype": "text/x-python",
      "name": "python",
      "nbconvert_exporter": "python",
      "pygments_lexer": "ipython3",
      "version": "3.8.5"
    },
    "colab": {
      "name": "1_ARIMA.ipynb",
      "provenance": [],
      "collapsed_sections": []
    },
    "accelerator": "GPU"
  },
  "cells": [
    {
      "cell_type": "code",
      "metadata": {
        "id": "uxUEDW68AgCc"
      },
      "source": [
        "import matplotlib\n",
        "import matplotlib.pyplot as plt\n",
        "import numpy as np\n",
        "import pandas as pd\n",
        "import sklearn\n",
        "import scipy\n",
        "import seaborn as sns\n",
        "sns.set( style=\"ticks\" )"
      ],
      "execution_count": 2,
      "outputs": []
    },
    {
      "cell_type": "code",
      "source": [
        "import numpy as np\n",
        "import pandas as pd\n",
        "from tabulate import tabulate\n",
        "from pandas.plotting import autocorrelation_plot\n",
        "from matplotlib import pyplot as plt\n",
        "from statsmodels.tsa.stattools import adfuller\n",
        "from statsmodels.tsa.arima_model import ARIMA\n",
        "from statsmodels.graphics.tsaplots import plot_acf\n",
        "from statsmodels.graphics.tsaplots import plot_pacf\n",
        "from sklearn.metrics import mean_squared_error, mean_absolute_error\n",
        "import warnings\n",
        "warnings.filterwarnings(\"ignore\")"
      ],
      "metadata": {
        "id": "j4QL-2IIfPzB"
      },
      "execution_count": 19,
      "outputs": []
    },
    {
      "cell_type": "code",
      "metadata": {
        "colab": {
          "base_uri": "https://localhost:8080/",
          "height": 204
        },
        "id": "77CHYARvAp6T",
        "outputId": "e696cdf9-826b-4b5e-d6f2-528e0dee6dab"
      },
      "source": [
        "data = pd.read_csv(\"1_dataset_elec.csv\", index_col = 0)\n",
        "data.tail()"
      ],
      "execution_count": 4,
      "outputs": [
        {
          "output_type": "execute_result",
          "data": {
            "text/plain": [
              "         date  supply  demand  industry    civil    OR\n",
              "390  20220126   32599   30050   383.226  247.539  3464\n",
              "391  20220127   32870   29406   378.400  244.422  4700\n",
              "392  20220128   32353   27653   358.867  231.804  3346\n",
              "393  20220129   29565   26219   334.252  215.905  3087\n",
              "394  20220130   28194   25107   318.076  205.457  3111"
            ],
            "text/html": [
              "\n",
              "  <div id=\"df-17643edc-5eb9-4b31-bf8b-3214c89d7e95\">\n",
              "    <div class=\"colab-df-container\">\n",
              "      <div>\n",
              "<style scoped>\n",
              "    .dataframe tbody tr th:only-of-type {\n",
              "        vertical-align: middle;\n",
              "    }\n",
              "\n",
              "    .dataframe tbody tr th {\n",
              "        vertical-align: top;\n",
              "    }\n",
              "\n",
              "    .dataframe thead th {\n",
              "        text-align: right;\n",
              "    }\n",
              "</style>\n",
              "<table border=\"1\" class=\"dataframe\">\n",
              "  <thead>\n",
              "    <tr style=\"text-align: right;\">\n",
              "      <th></th>\n",
              "      <th>date</th>\n",
              "      <th>supply</th>\n",
              "      <th>demand</th>\n",
              "      <th>industry</th>\n",
              "      <th>civil</th>\n",
              "      <th>OR</th>\n",
              "    </tr>\n",
              "  </thead>\n",
              "  <tbody>\n",
              "    <tr>\n",
              "      <th>390</th>\n",
              "      <td>20220126</td>\n",
              "      <td>32599</td>\n",
              "      <td>30050</td>\n",
              "      <td>383.226</td>\n",
              "      <td>247.539</td>\n",
              "      <td>3464</td>\n",
              "    </tr>\n",
              "    <tr>\n",
              "      <th>391</th>\n",
              "      <td>20220127</td>\n",
              "      <td>32870</td>\n",
              "      <td>29406</td>\n",
              "      <td>378.400</td>\n",
              "      <td>244.422</td>\n",
              "      <td>4700</td>\n",
              "    </tr>\n",
              "    <tr>\n",
              "      <th>392</th>\n",
              "      <td>20220128</td>\n",
              "      <td>32353</td>\n",
              "      <td>27653</td>\n",
              "      <td>358.867</td>\n",
              "      <td>231.804</td>\n",
              "      <td>3346</td>\n",
              "    </tr>\n",
              "    <tr>\n",
              "      <th>393</th>\n",
              "      <td>20220129</td>\n",
              "      <td>29565</td>\n",
              "      <td>26219</td>\n",
              "      <td>334.252</td>\n",
              "      <td>215.905</td>\n",
              "      <td>3087</td>\n",
              "    </tr>\n",
              "    <tr>\n",
              "      <th>394</th>\n",
              "      <td>20220130</td>\n",
              "      <td>28194</td>\n",
              "      <td>25107</td>\n",
              "      <td>318.076</td>\n",
              "      <td>205.457</td>\n",
              "      <td>3111</td>\n",
              "    </tr>\n",
              "  </tbody>\n",
              "</table>\n",
              "</div>\n",
              "      <button class=\"colab-df-convert\" onclick=\"convertToInteractive('df-17643edc-5eb9-4b31-bf8b-3214c89d7e95')\"\n",
              "              title=\"Convert this dataframe to an interactive table.\"\n",
              "              style=\"display:none;\">\n",
              "        \n",
              "  <svg xmlns=\"http://www.w3.org/2000/svg\" height=\"24px\"viewBox=\"0 0 24 24\"\n",
              "       width=\"24px\">\n",
              "    <path d=\"M0 0h24v24H0V0z\" fill=\"none\"/>\n",
              "    <path d=\"M18.56 5.44l.94 2.06.94-2.06 2.06-.94-2.06-.94-.94-2.06-.94 2.06-2.06.94zm-11 1L8.5 8.5l.94-2.06 2.06-.94-2.06-.94L8.5 2.5l-.94 2.06-2.06.94zm10 10l.94 2.06.94-2.06 2.06-.94-2.06-.94-.94-2.06-.94 2.06-2.06.94z\"/><path d=\"M17.41 7.96l-1.37-1.37c-.4-.4-.92-.59-1.43-.59-.52 0-1.04.2-1.43.59L10.3 9.45l-7.72 7.72c-.78.78-.78 2.05 0 2.83L4 21.41c.39.39.9.59 1.41.59.51 0 1.02-.2 1.41-.59l7.78-7.78 2.81-2.81c.8-.78.8-2.07 0-2.86zM5.41 20L4 18.59l7.72-7.72 1.47 1.35L5.41 20z\"/>\n",
              "  </svg>\n",
              "      </button>\n",
              "      \n",
              "  <style>\n",
              "    .colab-df-container {\n",
              "      display:flex;\n",
              "      flex-wrap:wrap;\n",
              "      gap: 12px;\n",
              "    }\n",
              "\n",
              "    .colab-df-convert {\n",
              "      background-color: #E8F0FE;\n",
              "      border: none;\n",
              "      border-radius: 50%;\n",
              "      cursor: pointer;\n",
              "      display: none;\n",
              "      fill: #1967D2;\n",
              "      height: 32px;\n",
              "      padding: 0 0 0 0;\n",
              "      width: 32px;\n",
              "    }\n",
              "\n",
              "    .colab-df-convert:hover {\n",
              "      background-color: #E2EBFA;\n",
              "      box-shadow: 0px 1px 2px rgba(60, 64, 67, 0.3), 0px 1px 3px 1px rgba(60, 64, 67, 0.15);\n",
              "      fill: #174EA6;\n",
              "    }\n",
              "\n",
              "    [theme=dark] .colab-df-convert {\n",
              "      background-color: #3B4455;\n",
              "      fill: #D2E3FC;\n",
              "    }\n",
              "\n",
              "    [theme=dark] .colab-df-convert:hover {\n",
              "      background-color: #434B5C;\n",
              "      box-shadow: 0px 1px 3px 1px rgba(0, 0, 0, 0.15);\n",
              "      filter: drop-shadow(0px 1px 2px rgba(0, 0, 0, 0.3));\n",
              "      fill: #FFFFFF;\n",
              "    }\n",
              "  </style>\n",
              "\n",
              "      <script>\n",
              "        const buttonEl =\n",
              "          document.querySelector('#df-17643edc-5eb9-4b31-bf8b-3214c89d7e95 button.colab-df-convert');\n",
              "        buttonEl.style.display =\n",
              "          google.colab.kernel.accessAllowed ? 'block' : 'none';\n",
              "\n",
              "        async function convertToInteractive(key) {\n",
              "          const element = document.querySelector('#df-17643edc-5eb9-4b31-bf8b-3214c89d7e95');\n",
              "          const dataTable =\n",
              "            await google.colab.kernel.invokeFunction('convertToInteractive',\n",
              "                                                     [key], {});\n",
              "          if (!dataTable) return;\n",
              "\n",
              "          const docLinkHtml = 'Like what you see? Visit the ' +\n",
              "            '<a target=\"_blank\" href=https://colab.research.google.com/notebooks/data_table.ipynb>data table notebook</a>'\n",
              "            + ' to learn more about interactive tables.';\n",
              "          element.innerHTML = '';\n",
              "          dataTable['output_type'] = 'display_data';\n",
              "          await google.colab.output.renderOutput(dataTable, element);\n",
              "          const docLink = document.createElement('div');\n",
              "          docLink.innerHTML = docLinkHtml;\n",
              "          element.appendChild(docLink);\n",
              "        }\n",
              "      </script>\n",
              "    </div>\n",
              "  </div>\n",
              "  "
            ]
          },
          "metadata": {},
          "execution_count": 4
        }
      ]
    },
    {
      "cell_type": "code",
      "source": [
        "fig = plt.figure(figsize=(10,10))\n",
        "ax1 = fig.add_subplot(311)\n",
        "fig = plot_acf(data['OR'], ax=ax1, title=\"Autocorrelation\")"
      ],
      "metadata": {
        "colab": {
          "base_uri": "https://localhost:8080/",
          "height": 226
        },
        "id": "rnClujL0gYRi",
        "outputId": "74dabf11-ba79-4a56-bff7-da349bc44a78"
      },
      "execution_count": 5,
      "outputs": [
        {
          "output_type": "display_data",
          "data": {
            "text/plain": [
              "<Figure size 720x720 with 1 Axes>"
            ],
            "image/png": "[encoded data removed]"
          },
          "metadata": {}
        }
      ]
    },
    {
      "cell_type": "code",
      "source": [
        "result = adfuller(data['OR'])\n",
        "print('p-value: {}'.format(round(result[1],4)))"
      ],
      "metadata": {
        "colab": {
          "base_uri": "https://localhost:8080/"
        },
        "id": "mM65kzLogqY5",
        "outputId": "ac38a5e2-2d19-4d00-b622-dd5edc520b55"
      },
      "execution_count": 6,
      "outputs": [
        {
          "output_type": "stream",
          "name": "stdout",
          "text": [
            "p-value: 0.1488\n"
          ]
        }
      ]
    },
    {
      "cell_type": "code",
      "source": [
        "fig = plt.figure(figsize=(10,10))\n",
        "ax2 = fig.add_subplot(312)\n",
        "fig = plot_acf(data['OR'].diff().dropna(), ax=ax2, title=\"Differencing\")"
      ],
      "metadata": {
        "colab": {
          "base_uri": "https://localhost:8080/",
          "height": 226
        },
        "id": "ddyIKjTvgxts",
        "outputId": "60061687-9ee2-418f-fd1b-a19bf5624e35"
      },
      "execution_count": 7,
      "outputs": [
        {
          "output_type": "display_data",
          "data": {
            "text/plain": [
              "<Figure size 720x720 with 1 Axes>"
            ],
            "image/png": "[encoded data removed]"
          },
          "metadata": {}
        }
      ]
    },
    {
      "cell_type": "code",
      "source": [
        "result = adfuller(data['OR'].diff().dropna())\n",
        "print('p-value: %f' % result[1])"
      ],
      "metadata": {
        "colab": {
          "base_uri": "https://localhost:8080/"
        },
        "id": "jb6XPjfsg7PU",
        "outputId": "c417a529-8b86-475a-ae53-1fac2e94171c"
      },
      "execution_count": 8,
      "outputs": [
        {
          "output_type": "stream",
          "name": "stdout",
          "text": [
            "p-value: 0.000000\n"
          ]
        }
      ]
    },
    {
      "cell_type": "code",
      "source": [
        "Order = []\n",
        "for p in range(1,6):\n",
        "    for q in range(1,3):\n",
        "        try:\n",
        "            model = ARIMA(data['OR'], order=(p, 1, q))\n",
        "            results = model.fit(disp=0)\n",
        "            Order.append(round(pd.read_html(results.summary().as_html(), header=0, index_col=0)[0].iloc[2,2],2))\n",
        "        except:\n",
        "            Order.append('NA')\n",
        "            print('No Result')\n",
        " \n",
        "b = [Order[i:i+2] for i in range(0,len(Order),2)]\n",
        "Order_df = pd.DataFrame(b,index=range(1,6),columns=range(1,3))\n",
        "Order_df.index.name = \"p \\\\ q \"\n",
        "print(tabulate(Order_df, headers='keys', tablefmt='fancy_grid',numalign=\"center\"))"
      ],
      "metadata": {
        "colab": {
          "base_uri": "https://localhost:8080/"
        },
        "id": "X_PHVk54hCP_",
        "outputId": "48b919e5-6b69-4222-c6cf-1c2d5a7f898f"
      },
      "execution_count": 9,
      "outputs": [
        {
          "output_type": "stream",
          "name": "stdout",
          "text": [
            "╒══════════╤═════════╤═════════╕\n",
            "│  p \\ q   │    1    │    2    │\n",
            "╞══════════╪═════════╪═════════╡\n",
            "│    1     │ 6295.72 │ 6296.06 │\n",
            "├──────────┼─────────┼─────────┤\n",
            "│    2     │ 6296.58 │ 6297.72 │\n",
            "├──────────┼─────────┼─────────┤\n",
            "│    3     │ 6297.09 │ 6296.22 │\n",
            "├──────────┼─────────┼─────────┤\n",
            "│    4     │ 6299.05 │ 6298.22 │\n",
            "├──────────┼─────────┼─────────┤\n",
            "│    5     │ 6300.98 │ 6299.28 │\n",
            "╘══════════╧═════════╧═════════╛\n"
          ]
        }
      ]
    },
    {
      "cell_type": "code",
      "source": [
        "#model = ARIMA(data, order=(5, 1, 2))\n",
        "model = ARIMA(data['OR'], order=(1, 1, 1))\n",
        "results = model.fit()\n",
        "print(results.summary())"
      ],
      "metadata": {
        "colab": {
          "base_uri": "https://localhost:8080/"
        },
        "id": "KbU7qKe3hZtG",
        "outputId": "0745c521-7861-4954-a5bd-cbfb708ab433"
      },
      "execution_count": 10,
      "outputs": [
        {
          "output_type": "stream",
          "name": "stdout",
          "text": [
            "                             ARIMA Model Results                              \n",
            "==============================================================================\n",
            "Dep. Variable:                   D.OR   No. Observations:                  394\n",
            "Model:                 ARIMA(1, 1, 1)   Log Likelihood               -3143.859\n",
            "Method:                       css-mle   S.D. of innovations            705.377\n",
            "Date:                Tue, 15 Mar 2022   AIC                           6295.718\n",
            "Time:                        03:37:49   BIC                           6311.623\n",
            "Sample:                             1   HQIC                          6302.021\n",
            "                                                                              \n",
            "==============================================================================\n",
            "                 coef    std err          z      P>|z|      [0.025      0.975]\n",
            "------------------------------------------------------------------------------\n",
            "const         -0.0186      4.122     -0.005      0.996      -8.098       8.061\n",
            "ar.L1.D.OR     0.3385      0.056      6.066      0.000       0.229       0.448\n",
            "ma.L1.D.OR    -0.9256      0.023    -39.743      0.000      -0.971      -0.880\n",
            "                                    Roots                                    \n",
            "=============================================================================\n",
            "                  Real          Imaginary           Modulus         Frequency\n",
            "-----------------------------------------------------------------------------\n",
            "AR.1            2.9545           +0.0000j            2.9545            0.0000\n",
            "MA.1            1.0804           +0.0000j            1.0804            0.0000\n",
            "-----------------------------------------------------------------------------\n"
          ]
        }
      ]
    },
    {
      "cell_type": "code",
      "source": [
        "fig = plt.figure(figsize=(10,10))\n",
        "ax3 = fig.add_subplot(312)\n",
        "fig = plot_pacf(data['OR'].diff().dropna(), ax=ax3, title=\"Partial AutoCorrelation Function\")\n",
        "fig = plt.figure(figsize=(10,10))\n",
        "ax4 = fig.add_subplot(312)\n",
        "fig = plot_acf(data['OR'].diff().dropna(), ax=ax4, title=\"AutoCorrelation Function\")"
      ],
      "metadata": {
        "colab": {
          "base_uri": "https://localhost:8080/",
          "height": 435
        },
        "id": "_8k65ITChxet",
        "outputId": "1125bd35-31f0-4754-9e87-6b6788500fc4"
      },
      "execution_count": 11,
      "outputs": [
        {
          "output_type": "display_data",
          "data": {
            "text/plain": [
              "<Figure size 720x720 with 1 Axes>"
            ],
            "image/png": "[encoded data removed]"
          },
          "metadata": {}
        },
        {
          "output_type": "display_data",
          "data": {
            "text/plain": [
              "<Figure size 720x720 with 1 Axes>"
            ],
            "image/png": "[encoded data removed]"
          },
          "metadata": {}
        }
      ]
    },
    {
      "cell_type": "code",
      "source": [
        "data.head()"
      ],
      "metadata": {
        "colab": {
          "base_uri": "https://localhost:8080/",
          "height": 204
        },
        "id": "smoBEVK1ngT9",
        "outputId": "373de405-8d10-430a-a841-c7d984749049"
      },
      "execution_count": 12,
      "outputs": [
        {
          "output_type": "execute_result",
          "data": {
            "text/plain": [
              "       date  supply  demand  industry    civil    OR\n",
              "0  20210101   28487   25720   311.468  212.061  2936\n",
              "1  20210102   28421   25485   304.952  207.625  3037\n",
              "2  20210103   28513   25476   299.771  204.098  3032\n",
              "3  20210104   32766   29734   342.273  233.036  3067\n",
              "4  20210105   33117   30050   353.795  240.880  3102"
            ],
            "text/html": [
              "\n",
              "  <div id=\"df-5d74598b-3b0c-42c4-85c0-cf1f3418c2ed\">\n",
              "    <div class=\"colab-df-container\">\n",
              "      <div>\n",
              "<style scoped>\n",
              "    .dataframe tbody tr th:only-of-type {\n",
              "        vertical-align: middle;\n",
              "    }\n",
              "\n",
              "    .dataframe tbody tr th {\n",
              "        vertical-align: top;\n",
              "    }\n",
              "\n",
              "    .dataframe thead th {\n",
              "        text-align: right;\n",
              "    }\n",
              "</style>\n",
              "<table border=\"1\" class=\"dataframe\">\n",
              "  <thead>\n",
              "    <tr style=\"text-align: right;\">\n",
              "      <th></th>\n",
              "      <th>date</th>\n",
              "      <th>supply</th>\n",
              "      <th>demand</th>\n",
              "      <th>industry</th>\n",
              "      <th>civil</th>\n",
              "      <th>OR</th>\n",
              "    </tr>\n",
              "  </thead>\n",
              "  <tbody>\n",
              "    <tr>\n",
              "      <th>0</th>\n",
              "      <td>20210101</td>\n",
              "      <td>28487</td>\n",
              "      <td>25720</td>\n",
              "      <td>311.468</td>\n",
              "      <td>212.061</td>\n",
              "      <td>2936</td>\n",
              "    </tr>\n",
              "    <tr>\n",
              "      <th>1</th>\n",
              "      <td>20210102</td>\n",
              "      <td>28421</td>\n",
              "      <td>25485</td>\n",
              "      <td>304.952</td>\n",
              "      <td>207.625</td>\n",
              "      <td>3037</td>\n",
              "    </tr>\n",
              "    <tr>\n",
              "      <th>2</th>\n",
              "      <td>20210103</td>\n",
              "      <td>28513</td>\n",
              "      <td>25476</td>\n",
              "      <td>299.771</td>\n",
              "      <td>204.098</td>\n",
              "      <td>3032</td>\n",
              "    </tr>\n",
              "    <tr>\n",
              "      <th>3</th>\n",
              "      <td>20210104</td>\n",
              "      <td>32766</td>\n",
              "      <td>29734</td>\n",
              "      <td>342.273</td>\n",
              "      <td>233.036</td>\n",
              "      <td>3067</td>\n",
              "    </tr>\n",
              "    <tr>\n",
              "      <th>4</th>\n",
              "      <td>20210105</td>\n",
              "      <td>33117</td>\n",
              "      <td>30050</td>\n",
              "      <td>353.795</td>\n",
              "      <td>240.880</td>\n",
              "      <td>3102</td>\n",
              "    </tr>\n",
              "  </tbody>\n",
              "</table>\n",
              "</div>\n",
              "      <button class=\"colab-df-convert\" onclick=\"convertToInteractive('df-5d74598b-3b0c-42c4-85c0-cf1f3418c2ed')\"\n",
              "              title=\"Convert this dataframe to an interactive table.\"\n",
              "              style=\"display:none;\">\n",
              "        \n",
              "  <svg xmlns=\"http://www.w3.org/2000/svg\" height=\"24px\"viewBox=\"0 0 24 24\"\n",
              "       width=\"24px\">\n",
              "    <path d=\"M0 0h24v24H0V0z\" fill=\"none\"/>\n",
              "    <path d=\"M18.56 5.44l.94 2.06.94-2.06 2.06-.94-2.06-.94-.94-2.06-.94 2.06-2.06.94zm-11 1L8.5 8.5l.94-2.06 2.06-.94-2.06-.94L8.5 2.5l-.94 2.06-2.06.94zm10 10l.94 2.06.94-2.06 2.06-.94-2.06-.94-.94-2.06-.94 2.06-2.06.94z\"/><path d=\"M17.41 7.96l-1.37-1.37c-.4-.4-.92-.59-1.43-.59-.52 0-1.04.2-1.43.59L10.3 9.45l-7.72 7.72c-.78.78-.78 2.05 0 2.83L4 21.41c.39.39.9.59 1.41.59.51 0 1.02-.2 1.41-.59l7.78-7.78 2.81-2.81c.8-.78.8-2.07 0-2.86zM5.41 20L4 18.59l7.72-7.72 1.47 1.35L5.41 20z\"/>\n",
              "  </svg>\n",
              "      </button>\n",
              "      \n",
              "  <style>\n",
              "    .colab-df-container {\n",
              "      display:flex;\n",
              "      flex-wrap:wrap;\n",
              "      gap: 12px;\n",
              "    }\n",
              "\n",
              "    .colab-df-convert {\n",
              "      background-color: #E8F0FE;\n",
              "      border: none;\n",
              "      border-radius: 50%;\n",
              "      cursor: pointer;\n",
              "      display: none;\n",
              "      fill: #1967D2;\n",
              "      height: 32px;\n",
              "      padding: 0 0 0 0;\n",
              "      width: 32px;\n",
              "    }\n",
              "\n",
              "    .colab-df-convert:hover {\n",
              "      background-color: #E2EBFA;\n",
              "      box-shadow: 0px 1px 2px rgba(60, 64, 67, 0.3), 0px 1px 3px 1px rgba(60, 64, 67, 0.15);\n",
              "      fill: #174EA6;\n",
              "    }\n",
              "\n",
              "    [theme=dark] .colab-df-convert {\n",
              "      background-color: #3B4455;\n",
              "      fill: #D2E3FC;\n",
              "    }\n",
              "\n",
              "    [theme=dark] .colab-df-convert:hover {\n",
              "      background-color: #434B5C;\n",
              "      box-shadow: 0px 1px 3px 1px rgba(0, 0, 0, 0.15);\n",
              "      filter: drop-shadow(0px 1px 2px rgba(0, 0, 0, 0.3));\n",
              "      fill: #FFFFFF;\n",
              "    }\n",
              "  </style>\n",
              "\n",
              "      <script>\n",
              "        const buttonEl =\n",
              "          document.querySelector('#df-5d74598b-3b0c-42c4-85c0-cf1f3418c2ed button.colab-df-convert');\n",
              "        buttonEl.style.display =\n",
              "          google.colab.kernel.accessAllowed ? 'block' : 'none';\n",
              "\n",
              "        async function convertToInteractive(key) {\n",
              "          const element = document.querySelector('#df-5d74598b-3b0c-42c4-85c0-cf1f3418c2ed');\n",
              "          const dataTable =\n",
              "            await google.colab.kernel.invokeFunction('convertToInteractive',\n",
              "                                                     [key], {});\n",
              "          if (!dataTable) return;\n",
              "\n",
              "          const docLinkHtml = 'Like what you see? Visit the ' +\n",
              "            '<a target=\"_blank\" href=https://colab.research.google.com/notebooks/data_table.ipynb>data table notebook</a>'\n",
              "            + ' to learn more about interactive tables.';\n",
              "          element.innerHTML = '';\n",
              "          dataTable['output_type'] = 'display_data';\n",
              "          await google.colab.output.renderOutput(dataTable, element);\n",
              "          const docLink = document.createElement('div');\n",
              "          docLink.innerHTML = docLinkHtml;\n",
              "          element.appendChild(docLink);\n",
              "        }\n",
              "      </script>\n",
              "    </div>\n",
              "  </div>\n",
              "  "
            ]
          },
          "metadata": {},
          "execution_count": 12
        }
      ]
    },
    {
      "cell_type": "markdown",
      "source": [
        "### 385, 395 version"
      ],
      "metadata": {
        "id": "kGwsudL5qJE-"
      }
    },
    {
      "cell_type": "code",
      "source": [
        "price = data['OR'].values\n",
        "#length = int(len(price) * 0.8)\n",
        "#train = list(price[0:length])\n",
        "#test =  price[length:len(price)]\n",
        "length = 385\n",
        "train = list(price[0:385])\n",
        "test =  price[385:len(price)]\n",
        "date = data.index[length:len(price)]\n",
        "#date = data['date']\n",
        "predictions = []\n",
        "low_bound = []\n",
        "up_bound = []\n",
        "\n",
        "print(len(price), len(train), len(test))\n",
        " \n",
        "for i in range(len(test)):\n",
        "    #model = ARIMA(train, order=(5, 1, 2))\n",
        "    model = ARIMA(train, order=(1, 1, 1))\n",
        "    model_fit = model.fit(disp=0)\n",
        "    pred = model_fit.forecast()[0]\n",
        "    predictions.append(pred)\n",
        "    real = test[i]\n",
        "    #train.append(real[0])   \n",
        "    train.append(real)   \n",
        "    low_bound.append(model_fit.forecast()[2][0][0])\n",
        "    up_bound.append(model_fit.forecast()[2][0][1])\n",
        " \n",
        "    #print(date[i] ,\"|\", 'Pred - '+str(round(pred[0],2)) ,\"|\", 'Real - '+str(real[0]))\n",
        "    print(date[i] ,\"|\", 'Pred - '+str(round(pred[0],2)) ,\"|\", 'Real - '+str(real))\n",
        "\n",
        "MSE = mean_squared_error(test, predictions)\n",
        "MAE = mean_absolute_error(test, predictions)\n",
        "print('Mean Squared Error : '+str(round(MSE,4)/10))\n",
        "print('Mean Absolute Error : '+str(round(MAE,4)/10))"
      ],
      "metadata": {
        "colab": {
          "base_uri": "https://localhost:8080/"
        },
        "id": "JbQctA_UiAiN",
        "outputId": "5e536b89-8032-4a5f-eb62-297a0150c8a2"
      },
      "execution_count": 22,
      "outputs": [
        {
          "output_type": "stream",
          "name": "stdout",
          "text": [
            "395 385 10\n",
            "385 | Pred - 2605.93 | Real - 3032\n",
            "386 | Pred - 2929.39 | Real - 2301\n",
            "387 | Pred - 2628.74 | Real - 3167\n",
            "388 | Pred - 2963.73 | Real - 2963\n",
            "389 | Pred - 2895.51 | Real - 2549\n",
            "390 | Pred - 2727.74 | Real - 3464\n",
            "391 | Pred - 3093.57 | Real - 4700\n",
            "392 | Pred - 3650.46 | Real - 3346\n",
            "393 | Pred - 3162.91 | Real - 3087\n",
            "394 | Pred - 3069.34 | Real - 3111\n",
            "Mean Squared Error : 42091.13684\n",
            "Mean Absolute Error : 47.046929999999996\n"
          ]
        }
      ]
    },
    {
      "cell_type": "code",
      "source": [
        "df = pd.DataFrame(index=date)\n",
        "#df.index = pd.to_datetime(df.index)\n",
        "df['real'] = test\n",
        "df['pred'] = predictions\n",
        "df['lb'] = low_bound\n",
        "df['ub'] = up_bound\n",
        "fig = plt.figure(figsize = (10,5))\n",
        "ax = fig.add_subplot()\n",
        " \n",
        "fig.suptitle('TSMC Stock Price Prediction & Reality', fontsize=22, fontweight='bold')\n",
        "ax.set_title('2019-10-24 / 2019-12-31', fontsize=16,)\n",
        "fig.subplots_adjust(top=0.85)\n",
        " \n",
        "ax.tick_params(labelsize=12)\n",
        "ax.plot(df.real, color='red', label='Real', marker='o',\n",
        "         markerfacecolor='red',markersize=6)\n",
        "ax.plot(df.pred, color='#121466', label='Pred', marker='o',\n",
        "         markerfacecolor='#121466',markersize=6)\n",
        "ax.legend()\n",
        "ax.plot(df.lb, color='#121466', ls=\"--\", alpha = 1)\n",
        "ax.plot(df.ub, color='#121466', ls=\"--\", alpha = 1)\n",
        "ax.fill_between(df.index, \n",
        "                df.lb,\n",
        "                df.ub,\n",
        "                color = '#121466',\n",
        "                alpha=.2,)\n",
        "ax.spines['right'].set_visible(False)\n",
        "ax.spines['top'].set_visible(False)\n",
        "plt.savefig('TSMC_prediction.png',dpi=300)"
      ],
      "metadata": {
        "colab": {
          "base_uri": "https://localhost:8080/",
          "height": 361
        },
        "id": "Fex8BJ9LmGOy",
        "outputId": "01286bb5-be78-443e-be2b-c8f353a42718"
      },
      "execution_count": 23,
      "outputs": [
        {
          "output_type": "display_data",
          "data": {
            "text/plain": [
              "<Figure size 720x360 with 1 Axes>"
            ],
            "image/png": "[encoded data removed]"
          },
          "metadata": {}
        }
      ]
    },
    {
      "cell_type": "markdown",
      "source": [
        "### 80% 20% version"
      ],
      "metadata": {
        "id": "4t4u7JPKrAFg"
      }
    },
    {
      "cell_type": "code",
      "source": [
        "price = data['OR'].values\n",
        "length = int(len(price) * 0.8)\n",
        "train = list(price[0:length])\n",
        "test =  price[length:len(price)]\n",
        "date = data.index[length:len(price)]\n",
        "#date = data['date']\n",
        "predictions = []\n",
        "low_bound = []\n",
        "up_bound = []\n",
        "\n",
        "print(len(price), len(train), len(test))\n",
        " \n",
        "for i in range(len(test)):\n",
        "    #model = ARIMA(train, order=(5, 1, 2))\n",
        "    model = ARIMA(train, order=(1, 1, 1))\n",
        "    model_fit = model.fit(disp=0)\n",
        "    pred = model_fit.forecast()[0]\n",
        "    predictions.append(pred)\n",
        "    real = test[i]\n",
        "    #train.append(real[0])   \n",
        "    train.append(real)   \n",
        "    low_bound.append(model_fit.forecast()[2][0][0])\n",
        "    up_bound.append(model_fit.forecast()[2][0][1])\n",
        " \n",
        "    #print(date[i] ,\"|\", 'Pred - '+str(round(pred[0],2)) ,\"|\", 'Real - '+str(real[0]))\n",
        "    print(date[i] ,\"|\", 'Pred - '+str(round(pred[0],2)) ,\"|\", 'Real - '+str(real))\n",
        "\n",
        "MSE = mean_squared_error(test, predictions)\n",
        "MAE = mean_absolute_error(test, predictions)\n",
        "print('Mean Squared Error : '+str(round(MSE,4)/79))\n",
        "print('Mean Absolute Error : '+str(round(MAE,4)/79))"
      ],
      "metadata": {
        "colab": {
          "base_uri": "https://localhost:8080/"
        },
        "id": "FbuI1L3lrFvb",
        "outputId": "767f908d-5d24-435d-c2cd-2b0af5c77eb3"
      },
      "execution_count": 24,
      "outputs": [
        {
          "output_type": "stream",
          "name": "stdout",
          "text": [
            "395 316 79\n",
            "316 | Pred - 4651.82 | Real - 4827\n",
            "317 | Pred - 4545.71 | Real - 3571\n",
            "318 | Pred - 3990.55 | Real - 3899\n",
            "319 | Pred - 4120.67 | Real - 3859\n",
            "320 | Pred - 4093.55 | Real - 3466\n",
            "321 | Pred - 3904.19 | Real - 5704\n",
            "322 | Pred - 4895.18 | Real - 4094\n",
            "323 | Pred - 4215.77 | Real - 4098\n",
            "324 | Pred - 4213.87 | Real - 6608\n",
            "325 | Pred - 5314.12 | Real - 4036\n",
            "326 | Pred - 4256.57 | Real - 3858\n",
            "327 | Pred - 4173.03 | Real - 3937\n",
            "328 | Pred - 4193.34 | Real - 4089\n",
            "329 | Pred - 4247.62 | Real - 3727\n",
            "330 | Pred - 4088.64 | Real - 3435\n",
            "331 | Pred - 3947.41 | Real - 2773\n",
            "332 | Pred - 3633.24 | Real - 4007\n",
            "333 | Pred - 4125.63 | Real - 4556\n",
            "334 | Pred - 4358.94 | Real - 3821\n",
            "335 | Pred - 4054.6 | Real - 4966\n",
            "336 | Pred - 4535.76 | Real - 4418\n",
            "337 | Pred - 4325.58 | Real - 3620\n",
            "338 | Pred - 3992.68 | Real - 3792\n",
            "339 | Pred - 4048.62 | Real - 2841\n",
            "340 | Pred - 3628.23 | Real - 4244\n",
            "341 | Pred - 4189.74 | Real - 3256\n",
            "342 | Pred - 3773.35 | Real - 3531\n",
            "343 | Pred - 3862.15 | Real - 3273\n",
            "344 | Pred - 3732.64 | Real - 4515\n",
            "345 | Pred - 4240.12 | Real - 4083\n",
            "346 | Pred - 4073.43 | Real - 3050\n",
            "347 | Pred - 3635.99 | Real - 2686\n",
            "348 | Pred - 3441.05 | Real - 2864\n",
            "349 | Pred - 3466.26 | Real - 6616\n",
            "350 | Pred - 5032.78 | Real - 4279\n",
            "351 | Pred - 4138.74 | Real - 3428\n",
            "352 | Pred - 3803.41 | Real - 2642\n",
            "353 | Pred - 3461.22 | Real - 2862\n",
            "354 | Pred - 3499.33 | Real - 3057\n",
            "355 | Pred - 3539.43 | Real - 2423\n",
            "356 | Pred - 3237.83 | Real - 3191\n",
            "357 | Pred - 3506.6 | Real - 3035\n",
            "358 | Pred - 3416.77 | Real - 3429\n",
            "359 | Pred - 3557.55 | Real - 3767\n",
            "360 | Pred - 3693.94 | Real - 3252\n",
            "361 | Pred - 3480.23 | Real - 2807\n",
            "362 | Pred - 3274.13 | Real - 4376\n",
            "363 | Pred - 3905.63 | Real - 3927\n",
            "364 | Pred - 3751.53 | Real - 3346\n",
            "365 | Pred - 3521.31 | Real - 3641\n",
            "366 | Pred - 3633.21 | Real - 3184\n",
            "367 | Pred - 3444.38 | Real - 2620\n",
            "368 | Pred - 3191.52 | Real - 2512\n",
            "369 | Pred - 3103.46 | Real - 3209\n",
            "370 | Pred - 3353.87 | Real - 3010\n",
            "371 | Pred - 3259.24 | Real - 3147\n",
            "372 | Pred - 3298.53 | Real - 3158\n",
            "373 | Pred - 3292.03 | Real - 2491\n",
            "374 | Pred - 3000.44 | Real - 2414\n",
            "375 | Pred - 2926.29 | Real - 2220\n",
            "376 | Pred - 2799.57 | Real - 2475\n",
            "377 | Pred - 2858.61 | Real - 2681\n",
            "378 | Pred - 2913.53 | Real - 2293\n",
            "379 | Pred - 2723.99 | Real - 3429\n",
            "380 | Pred - 3176.25 | Real - 2716\n",
            "381 | Pred - 2891.26 | Real - 2425\n",
            "382 | Pred - 2751.17 | Real - 3002\n",
            "383 | Pred - 2968.24 | Real - 2661\n",
            "384 | Pred - 2825.62 | Real - 2179\n",
            "385 | Pred - 2605.93 | Real - 3032\n",
            "386 | Pred - 2929.39 | Real - 2301\n",
            "387 | Pred - 2628.74 | Real - 3167\n",
            "388 | Pred - 2963.73 | Real - 2963\n",
            "389 | Pred - 2895.51 | Real - 2549\n",
            "390 | Pred - 2727.74 | Real - 3464\n",
            "391 | Pred - 3093.57 | Real - 4700\n",
            "392 | Pred - 3650.46 | Real - 3346\n",
            "393 | Pred - 3162.91 | Real - 3087\n",
            "394 | Pred - 3069.34 | Real - 3111\n",
            "Mean Squared Error : 7806.998925316456\n",
            "Mean Absolute Error : 7.50126835443038\n"
          ]
        }
      ]
    },
    {
      "cell_type": "code",
      "source": [
        "df = pd.DataFrame(index=date)\n",
        "#df.index = pd.to_datetime(df.index)\n",
        "df['real'] = test\n",
        "df['pred'] = predictions\n",
        "df['lb'] = low_bound\n",
        "df['ub'] = up_bound\n",
        "fig = plt.figure(figsize = (10,5))\n",
        "ax = fig.add_subplot()\n",
        " \n",
        "fig.suptitle('TSMC Stock Price Prediction & Reality', fontsize=22, fontweight='bold')\n",
        "ax.set_title('2019-10-24 / 2019-12-31', fontsize=16,)\n",
        "fig.subplots_adjust(top=0.85)\n",
        " \n",
        "ax.tick_params(labelsize=12)\n",
        "ax.plot(df.real, color='red', label='Real', marker='o',\n",
        "         markerfacecolor='red',markersize=6)\n",
        "ax.plot(df.pred, color='#121466', label='Pred', marker='o',\n",
        "         markerfacecolor='#121466',markersize=6)\n",
        "ax.legend()\n",
        "ax.plot(df.lb, color='#121466', ls=\"--\", alpha = 1)\n",
        "ax.plot(df.ub, color='#121466', ls=\"--\", alpha = 1)\n",
        "ax.fill_between(df.index, \n",
        "                df.lb,\n",
        "                df.ub,\n",
        "                color = '#121466',\n",
        "                alpha=.2,)\n",
        "ax.spines['right'].set_visible(False)\n",
        "ax.spines['top'].set_visible(False)\n",
        "plt.savefig('TSMC_prediction.png',dpi=300)"
      ],
      "metadata": {
        "colab": {
          "base_uri": "https://localhost:8080/",
          "height": 361
        },
        "id": "oOY19ICprHu7",
        "outputId": "71f8024d-0939-478c-b3af-9b50fd019beb"
      },
      "execution_count": 25,
      "outputs": [
        {
          "output_type": "display_data",
          "data": {
            "text/plain": [
              "<Figure size 720x360 with 1 Axes>"
            ],
            "image/png": "[encoded data removed]"
          },
          "metadata": {}
        }
      ]
    },
    {
      "cell_type": "code",
      "metadata": {
        "id": "yOMkQprdBYrV"
      },
      "source": [
        "# 用此種方法 畫出所有 feature 和 survival 之間的關係。僅列出一張圖做為代表\n",
        "# ['Sex'] and ['Survived']\n",
        "sns.catplot( x=\"Sex\", y=\"Survived\", data=train_set, kind = \"bar\" )\n",
        "\n",
        "# Here we can found female has higher probability to survive\n",
        "# Survive rate of male:   about 20% \n",
        "# Survive rate of female: about 75%"
      ],
      "execution_count": null,
      "outputs": []
    },
    {
      "cell_type": "code",
      "metadata": {
        "id": "RpGEat1ZBeNG"
      },
      "source": [
        "# 用此種方法去繪出 連續性質 的數據\n",
        "# ['Age'] and ['Survived']\n",
        "sns.kdeplot( x=\"Age\", hue=\"Survived\", multiple=\"stack\", data=train_set)\n",
        "\n",
        "# It shows that \n",
        "\"\"\"\n",
        "1. Age under 15 have higher Survive rate\n",
        "2. Age over about 70 have 0% Survive rate\n",
        "3. Age between 15 and 50 have lower Survive rate\n",
        "\"\"\""
      ],
      "execution_count": null,
      "outputs": []
    },
    {
      "cell_type": "markdown",
      "metadata": {
        "id": "rDr-Brb_Cg96"
      },
      "source": [
        "Conclusion:\n",
        "\n",
        "For the Survived Rate:\n",
        "- ['Sex'] plays an important role \n",
        "- ['PClass'] also plays an important role\n",
        "- ['Embarked'], ['Age'], ['Fare'] might be important\n",
        "- ['Parch'], ['SibSp'] might be less important\n",
        "- ['Name'], ['Ticket'], ['Cabin'] ignore. \n",
        "  - Name: might affect due to ['Pclass'], but need deal with String.\n",
        "  - Ticket: Not sure. String.\n",
        "  - Cabin: might affect, but too many NULL data."
      ]
    },
    {
      "cell_type": "code",
      "metadata": {
        "id": "XHpyd6_fBEw5"
      },
      "source": [
        "# 資料分析與前處理\n",
        "\n",
        "# Fill or Drop Null NA\n",
        "## Using Pandas to Preprocessing\n",
        "## 'inplace = True' means the change will overwrite the origin data\n",
        "\n",
        "train_set.drop(['PassengerId','Name','Ticket'], 1, inplace=True) # Drop Unused Columns\n",
        "train_set.drop(['Cabin'], 1, inplace=True)  # Drop 'Cabin'\n",
        "train_set['Age'].fillna( train_set['Age'].median(), inplace=True )  # Fill 'Age' NA with Age's median.\n",
        "train_set.dropna(inplace=True)  # Drop NA of rows having NA (remove Null Embarked)\n",
        "train_set.info()\n",
        "\n",
        "# Use get_dummies to transform string into numeric data\n",
        "\n",
        "categorical_vars = train_set[['Sex','Embarked']]                  # set of 'to be dummied'\n",
        "dummies = pd.get_dummies(categorical_vars,drop_first=True)    # set of 'after get_dummies'\n",
        "train_set.drop(['Sex','Embarked'],axis=1, inplace=True)           # drop original data of those columns\n",
        "train_set = pd.concat([train_set,dummies],axis=1)                     # concat the dummies data and the original data\n",
        "train_set.head()\n",
        "\n",
        "# 最後的 訓練集\n",
        "train_x = train_set.drop(['Survived'],1)\n",
        "train_y = train_set['Survived']"
      ],
      "execution_count": null,
      "outputs": []
    },
    {
      "cell_type": "markdown",
      "metadata": {
        "id": "47JHePUuBEw5"
      },
      "source": [
        "## 模型訓練\n",
        "\n",
        "請在此區塊後使用**一個或多個區塊**進行模型訓練，**需要**包含以下內容：\n",
        "\n",
        "- **選擇模型**\n",
        "    - 設定模型**超參數**\n",
        "    - **控制隨機亂數**\n",
        "- 計算**準確度（Accuracy）**\n",
        "    - 使用 **5-fold cross validation**，輸出**平均準確度**\n",
        "    - 最後再使用**所有**資料進行訓練並輸出**準確度**\n",
        "    - 準確度必須**超越**課堂使用的範例\n",
        "    \n",
        "如果有進行多於一個以上的實驗，**可以保留所有**的實驗結果，但是執行時間將會納入**全部**實驗。"
      ]
    },
    {
      "cell_type": "markdown",
      "metadata": {
        "id": "1JSUOg8dGL3u"
      },
      "source": [
        "Select Algorighm from 10 Different Algorithms\n",
        "\n",
        "Here we try 10 different algorithms to decide which one we're going to use later.\n",
        "1. KNC\n",
        "2. SVC\n",
        "3. NuSVC\n",
        "4. DecisionTreeC\n",
        "5. RandomForestC\n",
        "6. AdaBoostC\n",
        "7. GradientBoostingC\n",
        "8. GaussianNB\n",
        "9. LinearDiscriminantAnalysis\n",
        "10. QuadraticDiscriminantAnalysis()"
      ]
    },
    {
      "cell_type": "code",
      "metadata": {
        "id": "-9PKxRcLBEw5"
      },
      "source": [
        "# We will try a lot of models later\n",
        "from sklearn.model_selection import GridSearchCV                     \n",
        "from sklearn.metrics import accuracy_score, log_loss\n",
        "from sklearn.neighbors import KNeighborsClassifier\n",
        "from sklearn.svm import SVC, LinearSVC, NuSVC\n",
        "from sklearn.tree import DecisionTreeClassifier\n",
        "from sklearn.ensemble import RandomForestClassifier, AdaBoostClassifier, GradientBoostingClassifier\n",
        "from sklearn.naive_bayes import GaussianNB\n",
        "from sklearn.discriminant_analysis import LinearDiscriminantAnalysis\n",
        "from sklearn.discriminant_analysis import QuadraticDiscriminantAnalysis\n",
        "classifiers = [\n",
        "    KNeighborsClassifier(3),\n",
        "    SVC(kernel=\"rbf\", C=0.025, probability=True),\n",
        "    NuSVC(probability=True),\n",
        "    DecisionTreeClassifier(),\n",
        "    RandomForestClassifier(),\n",
        "    AdaBoostClassifier(),\n",
        "    GradientBoostingClassifier(),\n",
        "    GaussianNB(),\n",
        "    LinearDiscriminantAnalysis(),\n",
        "    QuadraticDiscriminantAnalysis()]\n",
        "\n",
        "# modified from TA's code\n",
        "# requirement: `random_state=1012`\n",
        "# 模型訓練\n",
        "\n",
        "from sklearn.model_selection import KFold             # 匯入 K 次交叉驗證工具\n",
        "from sklearn.tree import DecisionTreeClassifier       # 匯入決策樹模型\n",
        "from sklearn.metrics import accuracy_score            # 匯入準確度計算工具\n",
        "\n",
        "kf = KFold(n_splits=5,                                # 設定 K 值\n",
        "           random_state=1012,\n",
        "           shuffle=True)\n",
        "kf.get_n_splits(train_x)                              # 給予資料範圍\n",
        "\n",
        "\n",
        "# Here we use different classifier\n",
        "for clf in classifiers:\n",
        "\n",
        "  train_acc_list = []                                   # 儲存每次訓練模型的準確度\n",
        "  valid_acc_list = []                                   # 儲存每次驗證模型的準確度\n",
        "\n",
        "  for train_index, valid_index in kf.split(train_x):    # 每個迴圈都會產生不同部份的資料\n",
        "      train_x_split = train_x.iloc[train_index]         # 產生訓練資料\n",
        "      train_y_split = train_y.iloc[train_index]         # 產生訓練資料標籤\n",
        "      valid_x_split = train_x.iloc[valid_index]         # 產生驗證資料\n",
        "      valid_y_split = train_y.iloc[valid_index]         # 產生驗證資料標籤\n",
        "    \n",
        "      # Here we use different classifier to fit trainning data\n",
        "      clf.fit(train_x_split, train_y_split)             # 訓練決策樹模型\n",
        "      \n",
        "\n",
        "      train_pred_y = clf.predict(train_x_split)         # 確認模型是否訓練成功\n",
        "      train_acc = accuracy_score(train_y_split,         # 計算訓練資料準確度\n",
        "                                train_pred_y)\n",
        "      valid_pred_y = clf.predict(valid_x_split)         # 驗證模型是否訓練成功\n",
        "      valid_acc = accuracy_score(valid_y_split,         # 計算驗證資料準確度\n",
        "                                valid_pred_y)\n",
        "      \n",
        "      train_acc_list.append(train_acc)\n",
        "      valid_acc_list.append(valid_acc)\n",
        "\n",
        "  print( clf.__class__.__name__ )        # print classifier's name\n",
        "  print((\n",
        "      'average train accuracy: {}\\n' +\n",
        "      '    min train accuracy: {}\\n' +\n",
        "      '    max train accuracy: {}\\n' +\n",
        "      'average valid accuracy: {}\\n' +\n",
        "      '    min valid accuracy: {}\\n' +\n",
        "      '    max valid accuracy: {}').format(\n",
        "      np.mean(train_acc_list),                          # 輸出平均訓練準確度\n",
        "      np.min(train_acc_list),                           # 輸出最低訓練準確度\n",
        "      np.max(train_acc_list),                           # 輸出最高訓練準確度\n",
        "      np.mean(valid_acc_list),                          # 輸出平均驗證準確度\n",
        "      np.min(valid_acc_list),                           # 輸出最低驗證準確度\n",
        "      np.max(valid_acc_list)                            # 輸出最高驗證準確度\n",
        "  ))\n",
        "  print(\"=\"*30)"
      ],
      "execution_count": null,
      "outputs": []
    },
    {
      "cell_type": "markdown",
      "metadata": {
        "id": "eTq3WKJlGbcF"
      },
      "source": [
        "我選擇以 Gradient Boosting Classifer 作為要使用的演算法"
      ]
    },
    {
      "cell_type": "markdown",
      "metadata": {
        "id": "-CF7yUppGk1p"
      },
      "source": [
        "選參數："
      ]
    },
    {
      "cell_type": "code",
      "metadata": {
        "id": "ZAgPmaNpHm_X"
      },
      "source": [
        "from sklearn.model_selection import StratifiedShuffleSplit\n",
        "param_grid = {'loss':['deviance', 'exponential'], 'n_estimators':[100], 'subsample':[0.8, 1], 'max_depth':[3, 4, 5]}\n",
        "\n",
        "# Split data into \"trainning data\", \"testing data\", and \"validation data\"\n",
        "cv = StratifiedShuffleSplit(n_splits=5, test_size=0.4, random_state=12)\n",
        "# Try different model parameters\n",
        "grid = GridSearchCV(GradientBoostingClassifier(), param_grid, cv=cv, verbose=5, n_jobs=-1)\n",
        "# Train model\n",
        "grid.fit(train_x, train_y)\n",
        "\n",
        "grid.best_params_"
      ],
      "execution_count": null,
      "outputs": []
    },
    {
      "cell_type": "markdown",
      "metadata": {
        "id": "-DNgbsW_HqA1"
      },
      "source": [
        "最後 5-Fold 測驗"
      ]
    },
    {
      "cell_type": "code",
      "metadata": {
        "id": "Uc67-c0BGmbf"
      },
      "source": [
        "# 模型訓練\n",
        "\n",
        "from sklearn.model_selection import KFold             # 匯入 K 次交叉驗證工具\n",
        "from sklearn.tree import DecisionTreeClassifier       # 匯入決策樹模型\n",
        "from sklearn.metrics import accuracy_score            # 匯入準確度計算工具\n",
        "\n",
        "kf = KFold(n_splits=5,                                # 設定 K 值\n",
        "           random_state=1012,\n",
        "           shuffle=True)\n",
        "kf.get_n_splits(train_x)                              # 給予資料範圍\n",
        "\n",
        "\n",
        "train_acc_list = []                                   # 儲存每次訓練模型的準確度\n",
        "valid_acc_list = []                                   # 儲存每次驗證模型的準確度\n",
        "\n",
        "for train_index, valid_index in kf.split(train_x):    # 每個迴圈都會產生不同部份的資料\n",
        "    train_x_split = train_x.iloc[train_index]         # 產生訓練資料\n",
        "    train_y_split = train_y.iloc[train_index]         # 產生訓練資料標籤\n",
        "    valid_x_split = train_x.iloc[valid_index]         # 產生驗證資料\n",
        "    valid_y_split = train_y.iloc[valid_index]         # 產生驗證資料標籤\n",
        "  \n",
        "    clf = GradientBoostingClassifier(random_state=1012, loss='exponential', max_depth=4, n_estimators=100, subsample=1) # 創造決策樹模型\n",
        "    clf.fit(train_x_split, train_y_split)             # 訓練決策樹模型\n",
        "    \n",
        "    train_pred_y = clf.predict(train_x_split)         # 確認模型是否訓練成功\n",
        "    train_acc = accuracy_score(train_y_split,         # 計算訓練資料準確度\n",
        "                              train_pred_y)\n",
        "    valid_pred_y = clf.predict(valid_x_split)         # 驗證模型是否訓練成功\n",
        "    valid_acc = accuracy_score(valid_y_split,         # 計算驗證資料準確度\n",
        "                              valid_pred_y)\n",
        "    \n",
        "    train_acc_list.append(train_acc)\n",
        "    valid_acc_list.append(valid_acc)\n",
        "\n",
        "\n",
        "print((\n",
        "    'average train accuracy: {}\\n' +\n",
        "    '    min train accuracy: {}\\n' +\n",
        "    '    max train accuracy: {}\\n' +\n",
        "    'average valid accuracy: {}\\n' +\n",
        "    '    min valid accuracy: {}\\n' +\n",
        "    '    max valid accuracy: {}').format(\n",
        "    np.mean(train_acc_list),                          # 輸出平均訓練準確度\n",
        "    np.min(train_acc_list),                           # 輸出最低訓練準確度\n",
        "    np.max(train_acc_list),                           # 輸出最高訓練準確度\n",
        "    np.mean(valid_acc_list),                          # 輸出平均驗證準確度\n",
        "    np.min(valid_acc_list),                           # 輸出最低驗證準確度\n",
        "    np.max(valid_acc_list)                            # 輸出最高驗證準確度\n",
        "))"
      ],
      "execution_count": null,
      "outputs": []
    },
    {
      "cell_type": "markdown",
      "metadata": {
        "id": "UmyB8UvOBEw6"
      },
      "source": [
        "## 加分題\n",
        "\n",
        "請將訓練後的模型套用至 [Kaggle Titanic](https://www.kaggle.com/c/titanic/overview) `test.csv` 上，並上傳至 Kaggle 進行評分，**截圖**後**嵌入**至 `markdown` 區塊中。"
      ]
    },
    {
      "cell_type": "code",
      "metadata": {
        "id": "AfFa92mtHIX0"
      },
      "source": [
        "# test data 前處理（同train data）\n",
        "test = pd.read_csv(\"test.csv\") \n",
        "test['Age'].fillna(test['Age'].median(),inplace=True) # Age\n",
        "test['Fare'].fillna(test['Fare'].median(),inplace=True) # Fare\n",
        "test['Embarked'].fillna(test['Embarked'].value_counts().index[0], inplace=True) # Embarked\n",
        "ids = test[['PassengerId']]# Passenger Ids\n",
        "test.drop(['PassengerId','Name','Ticket','Cabin'],1,inplace=True)# Drop Unnecessary Columns\n",
        "categorical_vars = test[['Sex','Embarked']]# Get Dummies of Categorical Variables\n",
        "dummies = pd.get_dummies(categorical_vars,drop_first=True)\n",
        "test = test.drop(['Sex','Embarked'],axis=1)#Drop the Original Categorical Variables\n",
        "test = pd.concat([test,dummies],axis=1)#Instead, concat the new dummy variables\n",
        "test.head()\n",
        "\n",
        "# 開始訓練\n",
        "clf = GradientBoostingClassifier(loss='exponential', max_depth=4, n_estimators=100, subsample=1)\n",
        "clf.fit(train_x, train_y)\n",
        "\n",
        "# 開始預測\n",
        "preds = clf.predict(test)\n",
        "results = ids.assign(Survived=preds)\n",
        "# 儲存結果\n",
        "results.to_csv('titanic_submission.csv',index=False)"
      ],
      "execution_count": null,
      "outputs": []
    },
    {
      "cell_type": "markdown",
      "metadata": {
        "id": "NGD-nS4AH24x"
      },
      "source": [
        "- ![](https://i.imgur.com/HYRSKWq.png)"
      ]
    },
    {
      "cell_type": "code",
      "metadata": {
        "id": "DePGaMyGJ8Qe"
      },
      "source": [
        "# 因為看不出來明顯相關性，試著把 SibSp 和 Parch 直接丟掉:\n",
        "train_x_3 = train_set.drop(['Survived','SibSp','Parch'],1)\n",
        "train_y_3 = train_set['Survived']\n",
        "test_3 = test.drop(['SibSp','Parch'],1)\n",
        "\n",
        "# 開始訓練\n",
        "clf = GradientBoostingClassifier(loss='exponential', max_depth=4, n_estimators=100, subsample=1)\n",
        "clf.fit(train_x_3, train_y_3)\n",
        "\n",
        "# 開始預測\n",
        "preds = clf.predict(test_3)\n",
        "results = ids.assign(Survived=preds)\n",
        "# 儲存結果\n",
        "results.to_csv('titanic_submission.csv',index=False)"
      ],
      "execution_count": null,
      "outputs": []
    },
    {
      "cell_type": "markdown",
      "metadata": {
        "id": "FoOmKZ9wKrBh"
      },
      "source": [
        "Result : \n",
        "![](https://i.imgur.com/6DSGrPn.png)"
      ]
    },
    {
      "cell_type": "code",
      "metadata": {
        "id": "XLtyUmCKLV64"
      },
      "source": [
        "\"\"\"\n",
        "train_set_2 = train_set.copy()\n",
        "test_2 = test.copy()\n",
        "\n",
        "y = train_set_2['Survived']\n",
        "X = train_set_2.drop(['Survived'],1)\n",
        "from sklearn.preprocessing import StandardScaler\n",
        "sc = StandardScaler()\n",
        "X = sc.fit_transform(X)\n",
        "test = sc.fit_transform(test)\n",
        "\n",
        "\n",
        "from keras.wrappers.scikit_learn import KerasClassifier\n",
        "from keras.models import Sequential\n",
        "from keras.layers import Dense, Dropout\n",
        "def build_classifier(optimizer):\n",
        "    classifier = Sequential()\n",
        "    classifier.add(Dense(units=10,kernel_initializer='uniform',activation='relu',input_dim=8))\n",
        "    classifier.add(Dropout(rate = 0.2))\n",
        "    classifier.add(Dense(units=128,kernel_initializer='uniform',activation='relu'))\n",
        "    classifier.add(Dropout(rate = 0.2))\n",
        "    classifier.add(Dense(units=512,kernel_initializer='uniform',activation='relu'))\n",
        "    classifier.add(Dropout(rate = 0.2))\n",
        "    classifier.add(Dense(units=128,kernel_initializer='uniform',activation='relu'))\n",
        "    classifier.add(Dropout(rate = 0.2))\n",
        "    classifier.add(Dense(units=1,kernel_initializer='uniform',activation='sigmoid'))\n",
        "    classifier.compile(optimizer=optimizer,loss='binary_crossentropy',metrics=['accuracy'])\n",
        "    return classifier\n",
        "\n",
        "\n",
        "from sklearn.model_selection import GridSearchCV\n",
        "classifier = KerasClassifier(build_fn = build_classifier)\n",
        "param_grid = dict(optimizer = ['Adam'],\n",
        "                  epochs=[10, 20, 50, 100],\n",
        "                  batch_size=[16, 25, 32, 256, 512])\n",
        "grid = GridSearchCV(estimator=classifier, param_grid=param_grid, scoring='accuracy')\n",
        "grid_result = grid.fit(X, y)\n",
        "best_parameters = grid.best_params_\n",
        "best_accuracy = grid.best_score_\n",
        "\n",
        "print(  grid_result, \"\\n\",\n",
        "        best_parameters , \"\\n\",\n",
        "        best_accuracy )\n",
        "\n",
        "classifier = KerasClassifier(build_fn = build_classifier,\n",
        "                             optimizer=best_parameters['optimizer'],\n",
        "                             batch_size=best_parameters['batch_size'],\n",
        "                             epochs=best_parameters['epochs'])\n",
        "\n",
        "classifier.fit(X,y)\n",
        "preds = classifier.predict(test)\n",
        "\n",
        "results = ids.assign(Survived=preds)\n",
        "results['Survived'] = results['Survived'].apply(lambda row: 1 if row > 0.5 else 0)\n",
        "results.to_csv('titanic_submission.csv',index=False)\n",
        "results.head(20)\n",
        "\"\"\""
      ],
      "execution_count": null,
      "outputs": []
    },
    {
      "cell_type": "markdown",
      "metadata": {
        "id": "o4ZstdpOLOme"
      },
      "source": [
        "result:\n",
        "- ![](https://i.imgur.com/l4l3ben.png)"
      ]
    },
    {
      "cell_type": "code",
      "metadata": {
        "id": "IzYgFo-jI3nZ"
      },
      "source": [
        "# 執行時間較長，直接顯示結果\n",
        "\"\"\"\n",
        "y = train_set_2['Survived']\n",
        "X = train_set_2.drop(['Survived'],1)\n",
        "from sklearn.preprocessing import StandardScaler\n",
        "sc = StandardScaler()\n",
        "X = sc.fit_transform(X)\n",
        "test = sc.fit_transform(test)\n",
        "\n",
        "\n",
        "from keras.wrappers.scikit_learn import KerasClassifier\n",
        "from keras.models import Sequential\n",
        "from keras.layers import Dense, Dropout\n",
        "def build_classifier(optimizer):\n",
        "    classifier = Sequential()\n",
        "    classifier.add(Dense(units=10,kernel_initializer='uniform',activation='relu',input_dim=8))\n",
        "    classifier.add(Dropout(rate = 0.2))\n",
        "    classifier.add(Dense(units=128,kernel_initializer='uniform',activation='relu'))\n",
        "    classifier.add(Dropout(rate = 0.2))\n",
        "    classifier.add(Dense(units=128,kernel_initializer='uniform',activation='relu'))\n",
        "    classifier.add(Dropout(rate = 0.2))\n",
        "    classifier.add(Dense(units=128,kernel_initializer='uniform',activation='relu'))\n",
        "    classifier.add(Dropout(rate = 0.2))\n",
        "    classifier.add(Dense(units=128,kernel_initializer='uniform',activation='relu'))\n",
        "    classifier.add(Dropout(rate = 0.2))\n",
        "    classifier.add(Dense(units=128,kernel_initializer='uniform',activation='relu'))\n",
        "    classifier.add(Dropout(rate = 0.2))\n",
        "    classifier.add(Dense(units=128,kernel_initializer='uniform',activation='relu'))\n",
        "    classifier.add(Dropout(rate = 0.2))\n",
        "    \n",
        "    classifier.add(Dense(units=1,kernel_initializer='uniform',activation='sigmoid'))\n",
        "    classifier.compile(optimizer=optimizer,loss='binary_crossentropy',metrics=['accuracy'])\n",
        "    return classifier\n",
        "\n",
        "\n",
        "from sklearn.model_selection import GridSearchCV\n",
        "classifier = KerasClassifier(build_fn = build_classifier)\n",
        "param_grid = dict(optimizer = ['Adam'],\n",
        "                  epochs=[100, 200],\n",
        "                  batch_size=[16, 25, 64])\n",
        "grid = GridSearchCV(estimator=classifier, param_grid=param_grid, scoring='accuracy')\n",
        "grid_result = grid.fit(X, y)\n",
        "best_parameters = grid.best_params_\n",
        "best_accuracy = grid.best_score_\n",
        "\n",
        "print(  grid_result, \"\\n\",\n",
        "        best_parameters , \"\\n\",\n",
        "        best_accuracy )\n",
        "\n",
        "classifier = KerasClassifier(build_fn = build_classifier,\n",
        "                             optimizer=best_parameters['optimizer'],\n",
        "                             batch_size=best_parameters['batch_size'],\n",
        "                             epochs=best_parameters['epochs'])\n",
        "\n",
        "classifier.fit(X,y)\n",
        "preds = classifier.predict(test)\n",
        "\n",
        "results = ids.assign(Survived=preds)\n",
        "results['Survived'] = results['Survived'].apply(lambda row: 1 if row > 0.5 else 0)\n",
        "results.to_csv('titanic_submission.csv',index=False)\n",
        "results.head(20)\n",
        "\"\"\""
      ],
      "execution_count": null,
      "outputs": []
    },
    {
      "cell_type": "markdown",
      "metadata": {
        "id": "tgGwuW9KJEiS"
      },
      "source": [
        "- ![](https://i.imgur.com/px47a5L.png)"
      ]
    },
    {
      "cell_type": "code",
      "metadata": {
        "id": "N6nIRGREBEw6"
      },
      "source": [
        "# 請勿更動此區塊程式碼\n",
        "\n",
        "EXECUTION_END_TIME = time.time() # 計算執行時間\n",
        "print('total execution time: {}'.format(EXECUTION_END_TIME - EXECUTION_START_TIME))"
      ],
      "execution_count": null,
      "outputs": []
    },
    {
      "cell_type": "markdown",
      "metadata": {
        "id": "m5J-rYso-1mh"
      },
      "source": [
        "# 完整實驗過程(Google Colab)： \n",
        "- 我發現我來不及把資料搬過來...\n",
        "- https://colab.research.google.com/drive/1m81d34cSrC5KvTKF1Bn8QF9tF94X79-x?usp=sharing"
      ]
    },
    {
      "cell_type": "code",
      "metadata": {
        "id": "99-8tXhUB0CX"
      },
      "source": [
        ""
      ],
      "execution_count": null,
      "outputs": []
    }
  ]
}