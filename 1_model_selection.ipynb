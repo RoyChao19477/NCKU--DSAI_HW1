{
 "cells": [
  {
   "cell_type": "markdown",
   "metadata": {},
   "source": [
    "# Notebook Version"
   ]
  },
  {
   "cell_type": "markdown",
   "metadata": {},
   "source": [
    "## 0. Envirionment"
   ]
  },
  {
   "cell_type": "code",
   "execution_count": 61,
   "metadata": {},
   "outputs": [
    {
     "name": "stdout",
     "output_type": "stream",
     "text": [
      "Python 3.9.5\n",
      "pip 21.1.3 from /Users/blueshiner/anaconda3/envs/py39/lib/python3.9/site-packages/pip (python 3.9)\n",
      "The matplotlib version is 3.4.2\n",
      "The numpy version is 1.21.1.\n",
      "The pandas version is 1.3.0.\n",
      "The scikit-learn version is 0.24.2.\n",
      "The scipy version is 1.7.0.\n",
      "The seaborn version is 0.11.2.\n",
      "The requests version is 2.26.0.\n"
     ]
    }
   ],
   "source": [
    "# Python:\n",
    "!python3 --version\n",
    "\n",
    "# Pip:\n",
    "!pip --version\n",
    "\n",
    "# matplotlob, numpy, pandas, sklearn, scipy, seaborn\n",
    "import matplotlib\n",
    "print('The matplotlib version is {}'. format(matplotlib. __version__)) \n",
    "import numpy as np\n",
    "print('The numpy version is {}.'.format(np.__version__))\n",
    "import pandas as pd\n",
    "print('The pandas version is {}.'.format(pd.__version__))\n",
    "import sklearn\n",
    "print('The scikit-learn version is {}.'.format(sklearn.__version__))\n",
    "import scipy\n",
    "print('The scipy version is {}.'.format(scipy.__version__))\n",
    "import seaborn as sns\n",
    "print('The seaborn version is {}.'.format(sns.__version__))\n",
    "import requests\n",
    "print('The requests version is {}.'.format(requests.__version__))\n",
    "\n",
    "from scipy import stats\n",
    "import matplotlib.pyplot as plt\n",
    "from matplotlib.pyplot import figure\n",
    "from sklearn.preprocessing import MinMaxScaler\n",
    "from sklearn.model_selection import GridSearchCV                     \n",
    "from sklearn.metrics import accuracy_score, log_loss\n",
    "from sklearn.neighbors import KNeighborsRegressor\n",
    "from sklearn.svm import SVR, LinearSVC, NuSVR\n",
    "from sklearn.tree import DecisionTreeRegressor\n",
    "from sklearn.ensemble import RandomForestRegressor, AdaBoostRegressor, GradientBoostingRegressor\n",
    "from sklearn.naive_bayes import GaussianNB\n",
    "from sklearn.discriminant_analysis import LinearDiscriminantAnalysis\n",
    "from sklearn.discriminant_analysis import QuadraticDiscriminantAnalysis\n",
    "\n",
    "sns.set( style=\"ticks\" )\n",
    "np.random.seed = 999"
   ]
  },
  {
   "cell_type": "markdown",
   "metadata": {},
   "source": [
    "## 1. Preprocessing"
   ]
  },
  {
   "cell_type": "code",
   "execution_count": 5,
   "metadata": {},
   "outputs": [
    {
     "name": "stderr",
     "output_type": "stream",
     "text": [
      "/var/folders/hh/d63tg1dn1tq7z2b_82py9csw0000gn/T/ipykernel_31780/3642240188.py:21: SettingWithCopyWarning: \n",
      "A value is trying to be set on a copy of a slice from a DataFrame\n",
      "\n",
      "See the caveats in the documentation: https://pandas.pydata.org/pandas-docs/stable/user_guide/indexing.html#returning-a-view-versus-a-copy\n",
      "  df_dataset['OR'][idx] = df_dataset['supply'][idx + 1] - df_dataset['demand'][idx + 1]\n",
      "/Users/blueshiner/anaconda3/envs/py39/lib/python3.9/site-packages/pandas/core/frame.py:3607: SettingWithCopyWarning: \n",
      "A value is trying to be set on a copy of a slice from a DataFrame.\n",
      "Try using .loc[row_indexer,col_indexer] = value instead\n",
      "\n",
      "See the caveats in the documentation: https://pandas.pydata.org/pandas-docs/stable/user_guide/indexing.html#returning-a-view-versus-a-copy\n",
      "  self._set_item(key, value)\n"
     ]
    }
   ],
   "source": [
    "df_raw = pd.read_csv(\"data/0_raw_elec.csv\")\n",
    "# print(df_raw.head())\n",
    "\n",
    "df_raw = df_raw[['日期', '淨尖峰供電能力(MW)', '尖峰負載(MW)', '工業用電(百萬度)', '民生用電(百萬度)']]\n",
    "df_drop = df_raw.rename(columns=\n",
    "{\n",
    "    '日期' : 'date',\n",
    "    '淨尖峰供電能力(MW)' : 'supply',\n",
    "    '尖峰負載(MW)' : 'demand',\n",
    "    '工業用電(百萬度)' : 'industry', \n",
    "    '民生用電(百萬度)' : 'civil'\n",
    "})\n",
    "# print(df_drop.head())\n",
    "# print(df_drop.info())\n",
    "# print(df_drop.describe())\n",
    "\n",
    "df_dataset = df_drop.copy()\n",
    "df_dataset['OR'] = -1\n",
    "\n",
    "for idx in range( len(df_dataset) - 1 ):\n",
    "    df_dataset['OR'][idx] = df_dataset['supply'][idx + 1] - df_dataset['demand'][idx + 1]\n",
    "\n",
    "df_dataset.drop(df_dataset.tail(1).index, inplace=True)     # drop last one\n",
    "# print( df_dataset.head() )\n",
    "# print( df_dataset.describe() )\n",
    "\n",
    "\n",
    "min_max_scaler = MinMaxScaler()\n",
    "df_tmp = df_dataset.copy()\n",
    "\n",
    "min_max_scaler.fit(df_tmp[[\n",
    "        'supply', 'demand', 'industry', 'civil']])\n",
    "# print(f'min: {min_max_scaler.data_min_}')\n",
    "# print(f'max: {min_max_scaler.data_max_}')\n",
    "\n",
    "df_tmp[[\n",
    "        'supply', 'demand', 'industry', 'civil']] = min_max_scaler.fit_transform(df_tmp[['supply', 'demand', 'industry', 'civil']])\n",
    "df_tmp.drop(columns='date', inplace=True)\n",
    "\n",
    "\n",
    "df_outlier = df_dataset[(np.abs(stats.zscore(df_dataset.drop(columns=['OR', 'date']))) < 3).all(axis=1)]\n",
    "# len( df_outlier )\n",
    "\n",
    "min_max_scaler = MinMaxScaler()\n",
    "\n",
    "min_max_scaler.fit(df_outlier[[\n",
    "        'supply', 'demand', 'industry', 'civil'\n",
    "        ]])\n",
    "# print(f'min: {min_max_scaler.data_min_}')\n",
    "# print(f'max: {min_max_scaler.data_max_}')\n",
    "\n",
    "df_outlier[[\n",
    "        'supply', 'demand', 'industry', 'civil'\n",
    "        ]] = min_max_scaler.fit_transform(\n",
    "            df_outlier[[\n",
    "        'supply', 'demand', 'industry', 'civil'\n",
    "        ]])\n",
    "\n",
    "\n",
    "df_outlier.to_csv(\"data/3_dataset_outlier_elec.csv\")\n",
    "\n",
    "df_data = df_outlier.copy().drop(['supply', 'demand', 'industry', 'civil'], axis=1)"
   ]
  },
  {
   "cell_type": "code",
   "execution_count": 27,
   "metadata": {},
   "outputs": [],
   "source": [
    "csv_url = \"https://data.taipower.com.tw/opendata/apply/file/d006002/本年度每日尖峰備轉容量率.csv\"\n",
    "\n",
    "req = requests.get(csv_url)\n",
    "url_content = req.content\n",
    "csv_file = open('data/df_more.csv', 'wb')\n",
    "\n",
    "csv_file.write(url_content)\n",
    "csv_file.close()"
   ]
  },
  {
   "cell_type": "code",
   "execution_count": 52,
   "metadata": {},
   "outputs": [
    {
     "name": "stderr",
     "output_type": "stream",
     "text": [
      "/var/folders/hh/d63tg1dn1tq7z2b_82py9csw0000gn/T/ipykernel_31780/2891579192.py:15: SettingWithCopyWarning: \n",
      "A value is trying to be set on a copy of a slice from a DataFrame\n",
      "\n",
      "See the caveats in the documentation: https://pandas.pydata.org/pandas-docs/stable/user_guide/indexing.html#returning-a-view-versus-a-copy\n",
      "  df_more['OR'][idx] = df_more['OR'][idx+1]\n"
     ]
    },
    {
     "data": {
      "text/html": [
       "<div>\n",
       "<style scoped>\n",
       "    .dataframe tbody tr th:only-of-type {\n",
       "        vertical-align: middle;\n",
       "    }\n",
       "\n",
       "    .dataframe tbody tr th {\n",
       "        vertical-align: top;\n",
       "    }\n",
       "\n",
       "    .dataframe thead th {\n",
       "        text-align: right;\n",
       "    }\n",
       "</style>\n",
       "<table border=\"1\" class=\"dataframe\">\n",
       "  <thead>\n",
       "    <tr style=\"text-align: right;\">\n",
       "      <th></th>\n",
       "      <th>date</th>\n",
       "      <th>OR</th>\n",
       "    </tr>\n",
       "  </thead>\n",
       "  <tbody>\n",
       "    <tr>\n",
       "      <th>0</th>\n",
       "      <td>20220101</td>\n",
       "      <td>3641.0</td>\n",
       "    </tr>\n",
       "    <tr>\n",
       "      <th>1</th>\n",
       "      <td>20220102</td>\n",
       "      <td>3184.0</td>\n",
       "    </tr>\n",
       "    <tr>\n",
       "      <th>2</th>\n",
       "      <td>20220103</td>\n",
       "      <td>2620.0</td>\n",
       "    </tr>\n",
       "    <tr>\n",
       "      <th>3</th>\n",
       "      <td>20220104</td>\n",
       "      <td>2512.0</td>\n",
       "    </tr>\n",
       "    <tr>\n",
       "      <th>4</th>\n",
       "      <td>20220105</td>\n",
       "      <td>3209.0</td>\n",
       "    </tr>\n",
       "  </tbody>\n",
       "</table>\n",
       "</div>"
      ],
      "text/plain": [
       "       date      OR\n",
       "0  20220101  3641.0\n",
       "1  20220102  3184.0\n",
       "2  20220103  2620.0\n",
       "3  20220104  2512.0\n",
       "4  20220105  3209.0"
      ]
     },
     "execution_count": 52,
     "metadata": {},
     "output_type": "execute_result"
    }
   ],
   "source": [
    "df_more = pd.read_csv(\"data/df_more.csv\")\n",
    "\n",
    "df_more = df_more.rename(columns=\n",
    "{\n",
    "    '日期' : 'date',\n",
    "    '備轉容量(萬瓩)' : 'OR',\n",
    "    '備轉容量率(%)' : 'p',\n",
    "})\n",
    "\n",
    "df_more.drop(['p'], axis=1, inplace=True)\n",
    "df_more['date'] = df_more['date'].str.replace(\"/\", \"\").astype(int)\n",
    "df_more['OR'] = df_more['OR'] * 10\n",
    "\n",
    "for idx in range( len(df_more) - 1):\n",
    "    df_more['OR'][idx] = df_more['OR'][idx+1]\n",
    "\n",
    "df_full = pd.concat([df_data, df_more[ df_more['date'] > 20220130 ]])\n",
    "df_full.to_csv(\"data/df_full.csv\")"
   ]
  },
  {
   "cell_type": "code",
   "execution_count": null,
   "metadata": {},
   "outputs": [],
   "source": [
    "df_train = df_full.iloc[:400]   # Until 2022/02/28\n",
    "df_test = df_full.iloc[400:428] # From 2022/02/28 to 2022/03/28\n",
    "\n",
    "train_x = df_train.drop(columns='OR')\n",
    "train_y = df_train['OR']\n",
    "\n",
    "test_x = df_test.drop(columns='OR')\n",
    "test_y = df_test['OR']\n",
    "\n"
   ]
  },
  {
   "cell_type": "code",
   "execution_count": 63,
   "metadata": {},
   "outputs": [
    {
     "name": "stdout",
     "output_type": "stream",
     "text": [
      "KNeighborsRegressor\n",
      "average train MSE: 1023.0282934375\n",
      "    min train MSE: 946.118594921875\n",
      "    max train MSE: 1060.7954859375\n",
      "average valid MSE: 5804.61455375\n",
      "    min valid MSE: 4299.184037500001\n",
      "    max valid MSE: 7390.351956250002\n",
      "==============================\n",
      "SVR\n",
      "average train MSE: 1813.9181854979865\n",
      "    min train MSE: 946.118594921875\n",
      "    max train MSE: 2678.9925356976505\n",
      "average valid MSE: 8133.1216346211195\n",
      "    min valid MSE: 4299.184037500001\n",
      "    max valid MSE: 12283.931715653114\n",
      "==============================\n",
      "NuSVR\n",
      "average train MSE: 2007.0365498367871\n",
      "    min train MSE: 946.118594921875\n",
      "    max train MSE: 2678.9925356976505\n",
      "average valid MSE: 8623.865533362334\n",
      "    min valid MSE: 4299.184037500001\n",
      "    max valid MSE: 12283.931715653114\n",
      "==============================\n",
      "DecisionTreeRegressor\n",
      "average train MSE: 1624.3487921790224\n",
      "    min train MSE: 412.31947916666667\n",
      "    max train MSE: 2678.9925356976505\n",
      "average valid MSE: 8225.51009424918\n",
      "    min valid MSE: 4299.184037500001\n",
      "    max valid MSE: 12283.931715653114\n",
      "==============================\n",
      "RandomForestRegressor\n",
      "average train MSE: 1411.3988894085912\n",
      "    min train MSE: 412.31947916666667\n",
      "    max train MSE: 2678.9925356976505\n",
      "average valid MSE: 7781.736193743907\n",
      "    min valid MSE: 4087.7469942314747\n",
      "    max valid MSE: 12283.931715653114\n",
      "==============================\n",
      "AdaBoostRegressor\n",
      "average train MSE: 1407.6097127842952\n",
      "    min train MSE: 412.31947916666667\n",
      "    max train MSE: 2678.9925356976505\n",
      "average valid MSE: 7563.290714997542\n",
      "    min valid MSE: 4087.7469942314747\n",
      "    max valid MSE: 12283.931715653114\n",
      "==============================\n",
      "GradientBoostingRegressor\n",
      "average train MSE: 1307.9109512490381\n",
      "    min train MSE: 412.31947916666667\n",
      "    max train MSE: 2678.9925356976505\n",
      "average valid MSE: 7296.908868999329\n",
      "    min valid MSE: 4087.7469942314747\n",
      "    max valid MSE: 12283.931715653114\n",
      "==============================\n"
     ]
    }
   ],
   "source": [
    "# We will try a lot of models later\n",
    "classifiers = [\n",
    "    KNeighborsRegressor(),\n",
    "    SVR(),\n",
    "    NuSVR(),\n",
    "    DecisionTreeRegressor(),\n",
    "    RandomForestRegressor(),\n",
    "    AdaBoostRegressor(),\n",
    "    GradientBoostingRegressor()\n",
    "]\n",
    "\n",
    "# 模型訓練\n",
    "\n",
    "from sklearn.model_selection import KFold             # 匯入 K 次交叉驗證工具\n",
    "from sklearn.tree import DecisionTreeClassifier       # 匯入決策樹模型\n",
    "from sklearn.metrics import accuracy_score            # 匯入準確度計算工具\n",
    "from sklearn.metrics import mean_squared_error\n",
    "\n",
    "kf = KFold(n_splits=5,                                # 設定 K 值\n",
    "           random_state=1012,\n",
    "           shuffle=True)\n",
    "kf.get_n_splits(train_x)                              # 給予資料範圍\n",
    "\n",
    "\n",
    "train_acc_list = []                                   # 儲存每次訓練模型的準確度\n",
    "valid_acc_list = []                                   # 儲存每次驗證模型的準確度\n",
    "best = []\n",
    "avg = []\n",
    "\n",
    "# train_index = [0, 1, 2, 3, 4, 5, 6, 7, 8, 9, 10, 11, 12, 13, 14, 15, 16, 17, 18, 19, 20]\n",
    "# valid_index = [21, 22, 23, 24, 25, 26, 27, 28]\n",
    "\n",
    "for clf in classifiers:\n",
    "  for train_index, valid_index in kf.split(train_x):    # 每個迴圈都會產生不同部份的資料\n",
    "    train_x_split = train_x.iloc[train_index]         # 產生訓練資料\n",
    "    train_y_split = train_y.iloc[train_index]         # 產生訓練資料標籤\n",
    "    valid_x_split = train_x.iloc[valid_index]         # 產生驗證資料\n",
    "    valid_y_split = train_y.iloc[valid_index]         # 產生驗證資料標籤\n",
    "\n",
    "    clf.fit(train_x_split, train_y_split)             # 訓練決策樹模型\n",
    "    \n",
    "    train_pred_y = clf.predict(train_x_split)         # 確認模型是否訓練成功\n",
    "    train_acc = mean_squared_error(train_y_split, train_pred_y) / len(train_y_split)\n",
    "\n",
    "    valid_pred_y = clf.predict(valid_x_split)         # 驗證模型是否訓練成功\n",
    "    valid_acc = mean_squared_error(valid_y_split, valid_pred_y) / len(valid_y_split)\n",
    "    \n",
    "    train_acc_list.append(train_acc)\n",
    "    valid_acc_list.append(valid_acc)\n",
    "\n",
    "  print( clf.__class__.__name__ )        # print classifier's name\n",
    "    # print(\"train MSE: \", train_acc)\n",
    "    # print(\"test MSE: \", valid_acc)\n",
    "    \n",
    "  print((\n",
    "    'average train MSE: {}\\n' +\n",
    "    '    min train MSE: {}\\n' +\n",
    "    '    max train MSE: {}\\n' +\n",
    "    'average valid MSE: {}\\n' +\n",
    "    '    min valid MSE: {}\\n' +\n",
    "    '    max valid MSE: {}').format(\n",
    "    np.mean(train_acc_list),                          # 輸出平均訓練準確度\n",
    "    np.min(train_acc_list),                           # 輸出最低訓練準確度\n",
    "    np.max(train_acc_list),                           # 輸出最高訓練準確度\n",
    "    np.mean(valid_acc_list),                          # 輸出平均驗證準確度\n",
    "    np.min(valid_acc_list),                           # 輸出最低驗證準確度\n",
    "    np.max(valid_acc_list)                            # 輸出最高驗證準確度\n",
    "  ))\n",
    "\n",
    "  best.append(np.min(valid_acc_list))\n",
    "  avg.append(np.mean(valid_acc_list))\n",
    "\n",
    "  print(\"=\"*30)"
   ]
  },
  {
   "cell_type": "code",
   "execution_count": 64,
   "metadata": {},
   "outputs": [
    {
     "data": {
      "text/plain": [
       "<AxesSubplot:>"
      ]
     },
     "execution_count": 64,
     "metadata": {},
     "output_type": "execute_result"
    },
    {
     "data": {
      "image/png": "[encoded data removed]",
      "text/plain": [
       "<Figure size 842.4x595.44 with 1 Axes>"
      ]
     },
     "metadata": {},
     "output_type": "display_data"
    }
   ],
   "source": [
    "xx = ['KNR', 'SVR', 'NuSVR', 'DTR', 'RFR', 'AdaBoR', 'GBR']\n",
    "yy = best\n",
    "sns.set(rc={'figure.figsize':(11.7,8.27)})\n",
    "sns.barplot(x=xx, y=yy)"
   ]
  },
  {
   "cell_type": "code",
   "execution_count": 65,
   "metadata": {},
   "outputs": [
    {
     "data": {
      "text/plain": [
       "<AxesSubplot:>"
      ]
     },
     "execution_count": 65,
     "metadata": {},
     "output_type": "execute_result"
    },
    {
     "data": {
      "image/png": "[encoded data removed]",
      "text/plain": [
       "<Figure size 842.4x595.44 with 1 Axes>"
      ]
     },
     "metadata": {},
     "output_type": "display_data"
    }
   ],
   "source": [
    "xx = ['KNR', 'SVR', 'NuSVR', 'DTR', 'RFR', 'AdaBoR', 'GBR']\n",
    "yy = avg\n",
    "sns.set(rc={'figure.figsize':(11.7,8.27)})\n",
    "sns.barplot(x=xx, y=yy)"
   ]
  },
  {
   "cell_type": "code",
   "execution_count": null,
   "metadata": {},
   "outputs": [],
   "source": []
  }
 ],
 "metadata": {
  "interpreter": {
   "hash": "8a321bb0fc4d66f9af6532794760ab083afb692787107ffc87e331bdf958f3c9"
  },
  "kernelspec": {
   "display_name": "Python 3.9.5 ('py39')",
   "language": "python",
   "name": "python3"
  },
  "language_info": {
   "codemirror_mode": {
    "name": "ipython",
    "version": 3
   },
   "file_extension": ".py",
   "mimetype": "text/x-python",
   "name": "python",
   "nbconvert_exporter": "python",
   "pygments_lexer": "ipython3",
   "version": "3.9.5"
  },
  "orig_nbformat": 4
 },
 "nbformat": 4,
 "nbformat_minor": 2
}
